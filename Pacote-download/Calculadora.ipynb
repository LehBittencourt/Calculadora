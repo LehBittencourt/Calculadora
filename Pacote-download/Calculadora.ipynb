{
  "cells": [
    {
      "cell_type": "code",
      "execution_count": 1,
      "metadata": {
        "id": "Tym7iXAcU-8k"
      },
      "outputs": [],
      "source": [
        "# Função para soma\n",
        "soma = lambda n1, n2: n1+n2"
      ]
    },
    {
      "cell_type": "code",
      "execution_count": 2,
      "metadata": {
        "id": "9jiIGQz9ZbkT"
      },
      "outputs": [],
      "source": [
        "# Função para subtração\n",
        "subtracao = lambda n1,n2: n1-n2"
      ]
    },
    {
      "cell_type": "code",
      "execution_count": 3,
      "metadata": {
        "id": "KkN7bV-9Z8mh"
      },
      "outputs": [],
      "source": [
        "# Função para multiplicação\n",
        "multiplicacao = lambda n1, n2: n1*n2"
      ]
    },
    {
      "cell_type": "code",
      "execution_count": 4,
      "metadata": {
        "id": "Z9-3IbSEaVtB"
      },
      "outputs": [],
      "source": [
        "# Função para divisão\n",
        "divisao = lambda n1, n2: n1/n2"
      ]
    },
    {
      "cell_type": "code",
      "execution_count": 5,
      "metadata": {
        "id": "KqFT34A-b2kY"
      },
      "outputs": [],
      "source": [
        "# Função para potenciação\n",
        "potenciacao = lambda n1, n2: n1 ** n2"
      ]
    },
    {
      "cell_type": "code",
      "execution_count": null,
      "metadata": {
        "id": "KfIpd9JdSn1j"
      },
      "outputs": [],
      "source": [
        "print('******************** Calculadora ********************')\n",
        "print('Selecione o número da opção desejada: ')\n",
        "print('1 - Soma\\n2 - Subtração\\n3 - Multiplicação\\n4 - Divisão\\n5 - Potenciação\\n6 - Sair')\n",
        "\n",
        "opcao = 0\n",
        "\n",
        "while opcao != 6:\n",
        "    opcao = int(input('\\nDigite a opção desejada: '))\n",
        "\n",
        "    if opcao == 6:\n",
        "        print('Programa finalizado com suceso!')\n",
        "        break\n",
        "    elif opcao < 1 or opcao > 6:\n",
        "        print(\"\\nOpção Inválida!\\nDigite uma opção válida!\")\n",
        "    else:\n",
        "        n1 = int(input('Digite o primeiro número: '))\n",
        "        n2 = int(input('Digite o segundo número: '))\n",
        "\n",
        "    if opcao == 1:\n",
        "        print(\"\\nOpção escolhida: soma\")\n",
        "        print('Resultado:', n1, \"+\", n2, \"=\", soma(n1,n2))\n",
        "    elif opcao == 2:\n",
        "        print(\"\\nOpção escolhida: subtração\")\n",
        "        print('Resultado:', n1, \"-\", n2, \"=\", subtracao(n1,n2))\n",
        "    elif opcao == 3:\n",
        "        print(\"\\nOpção escolhida: multiplicação\")\n",
        "        print('Resultado:', n1, \"*\", n2, \"=\", multiplicacao(n1,n2))\n",
        "    elif opcao == 4:\n",
        "        if n2 == 0:\n",
        "            print('\\nAtenção: Não é possível fazer divisão por zero!')\n",
        "        else:\n",
        "            print(\"\\nOpção escolhida: divisão\")\n",
        "            print('Resultado:', n1, \"/\", n2, \"=\", divisao(n1,n2))\n",
        "    elif opcao == 5:\n",
        "        print(\"\\nOpção escolhida: potenciação\")\n",
        "        print('Resultado:', n1, \"**\", n2, \"=\", potenciacao(n1,n2))"
      ]
    }
  ],
  "metadata": {
    "colab": {
      "provenance": []
    },
    "kernelspec": {
      "display_name": "Python 3",
      "name": "python3"
    },
    "language_info": {
      "name": "python"
    }
  },
  "nbformat": 4,
  "nbformat_minor": 0
}